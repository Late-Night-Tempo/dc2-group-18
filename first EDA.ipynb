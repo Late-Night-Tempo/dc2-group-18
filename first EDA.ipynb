{
 "cells": [
  {
   "cell_type": "code",
   "execution_count": null,
   "id": "228c0a3e",
   "metadata": {
    "scrolled": false
   },
   "outputs": [],
   "source": [
    "import matplotlib.pyplot as plt\n",
    "import seaborn as sns\n",
    "import pandas as pd"
   ]
  },
  {
   "cell_type": "code",
   "execution_count": null,
   "id": "c8867925",
   "metadata": {},
   "outputs": [],
   "source": [
    "# Open the CSV file\n",
    "with open('cleandata/CleanSearchData.csv') as file:\n",
    "    # Read the CSV file into a pandas DataFrame\n",
    "    df = pd.read_csv(file)\n",
    "\n",
    "df.head()"
   ]
  },
  {
   "cell_type": "code",
   "execution_count": null,
   "id": "2877999c",
   "metadata": {
    "scrolled": true
   },
   "outputs": [],
   "source": [
    "# df.head(1000).to_csv('streetsample.csv')"
   ]
  },
  {
   "cell_type": "markdown",
   "id": "95b4f036",
   "metadata": {},
   "source": [
    "## stop and serach data plots"
   ]
  },
  {
   "cell_type": "code",
   "execution_count": null,
   "id": "ac471748",
   "metadata": {
    "scrolled": false
   },
   "outputs": [],
   "source": [
    "# Load the dataset\n",
    "file_path = 'cleandata/CleanSearchData.csv'\n",
    "data = pd.read_csv(file_path)\n",
    "\n",
    "# Display the first few rows and the data structure\n",
    "data.head(), data.info()\n"
   ]
  },
  {
   "cell_type": "code",
   "execution_count": null,
   "id": "9f23dd78",
   "metadata": {
    "scrolled": true
   },
   "outputs": [],
   "source": [
    "data['Outcome'].unique()"
   ]
  },
  {
   "cell_type": "code",
   "execution_count": null,
   "id": "2845d055",
   "metadata": {
    "scrolled": false
   },
   "outputs": [],
   "source": [
    "# Convert 'Date' to datetime\n",
    "data['Date'] = pd.to_datetime(data['Date'])\n",
    "\n",
    "# Drop columns\n",
    "data.drop(['Longitude', 'Latitude', 'Legislation'], axis=1, inplace=True)\n",
    "\n",
    "# Drop rows with null values in columns of interest\n",
    "columns_of_interest = ['Gender', 'Age range', 'Self-defined ethnicity', \n",
    "                       'Officer-defined ethnicity', 'Object of search']\n",
    "data_clean = data.dropna(subset=columns_of_interest)\n",
    "\n",
    "data_clean.info(), data_clean.head()\n"
   ]
  },
  {
   "cell_type": "code",
   "execution_count": null,
   "id": "607710c7",
   "metadata": {
    "scrolled": false
   },
   "outputs": [],
   "source": [
    "# Set the plotting style\n",
    "sns.set(style=\"whitegrid\")\n",
    "\n",
    "# Crime Density Over Time: Line plot of searches over time\n",
    "data_clean['Month-Year'] = data_clean['Date'].dt.to_period('M').dt.to_timestamp()\n",
    "time_density = data_clean.groupby('Month-Year').size()\n",
    "\n",
    "plt.figure(figsize=(12, 6))\n",
    "time_density.plot(title='Search Operations Density Over Time', color='blue', marker='o')\n",
    "plt.xlabel('Date')\n",
    "plt.ylabel('Number of Searches')\n",
    "plt.grid(True)\n",
    "plt.show()\n",
    "\n",
    "# Preparing other data for visualization\n",
    "# Crime Count per Age\n",
    "age_counts = data_clean['Age range'].value_counts()\n",
    "\n",
    "# Crime Count per Gender\n",
    "gender_counts = data_clean['Gender'].value_counts()\n",
    "\n",
    "# Crime Count per Self-Defined Ethnicity\n",
    "self_ethnicity_counts = data_clean['Self-defined ethnicity'].value_counts()\n",
    "\n",
    "# Crime Count per Officer-Defined Ethnicity\n",
    "officer_ethnicity_counts = data_clean['Officer-defined ethnicity'].value_counts()\n",
    "\n",
    "# Crime Count per Object of Search\n",
    "object_search_counts = data_clean['Object of search'].value_counts()\n",
    "\n",
    "# Plotting function for the bar plots\n",
    "def plot_bar(data, title, xlabel, ylabel, color, filename):\n",
    "    plt.figure(figsize=(12, 6))\n",
    "    sns.barplot(x=data.values, y=data.index, palette=color)\n",
    "    plt.title(title)\n",
    "    plt.xlabel(xlabel)\n",
    "    plt.ylabel(ylabel)\n",
    "    plt.tight_layout()\n",
    "#     plt.savefig(filename)\n",
    "    plt.show()\n",
    "\n",
    "# plots for Age, Gender, Ethnicities, and Objects of search\n",
    "# Plots for Age, Gender, Ethnicities, and Objects of search\n",
    "plot_bar(age_counts, 'Search Operations per Age', 'Number of Searches', 'Age Range', 'Blues_r', 'search1a.png')\n",
    "plot_bar(gender_counts, 'Search Operations per Gender', 'Number of Searches', 'Gender', 'Blues_r', 'search1b.png')\n",
    "plot_bar(self_ethnicity_counts, 'Search Operations per Self-Defined Ethnicity', 'Number of Searches', 'Self-Defined Ethnicity', 'Blues_r', 'search1c.png')\n",
    "plot_bar(officer_ethnicity_counts, 'Search Operations per Officer-Defined Ethnicity', 'Number of Searches', 'Officer-Defined Ethnicity', 'Blues_r', 'search1d.png')\n",
    "plot_bar(object_search_counts, 'Search Operations per Object of Search', 'Number of Searches', 'Object of Search', 'Blues_r', 'search1e.png')\n",
    "\n"
   ]
  },
  {
   "cell_type": "markdown",
   "id": "6d89b3f3",
   "metadata": {},
   "source": [
    "## 2nd try with Search data"
   ]
  },
  {
   "cell_type": "code",
   "execution_count": null,
   "id": "33b40161",
   "metadata": {
    "scrolled": true
   },
   "outputs": [],
   "source": [
    "# Load the dataset\n",
    "file_path = 'cleandata/CleanSearchData.csv'\n",
    "data = pd.read_csv(file_path)\n",
    "\n",
    "data['Date'] = pd.to_datetime(data['Date'])\n",
    "data.drop(['Longitude', 'Latitude', 'Legislation'], axis=1, inplace=True)\n",
    "\n",
    "# Drop rows with null values in the relevant columns\n",
    "data_clean = data.dropna(subset=['Gender', 'Age range', 'Self-defined ethnicity', \n",
    "                                 'Officer-defined ethnicity', 'Object of search', 'Outcome'])\n",
    "\n",
    "# Check the cleaned data\n",
    "data_clean.info(), data_clean.head()\n"
   ]
  },
  {
   "cell_type": "code",
   "execution_count": null,
   "id": "de160892",
   "metadata": {
    "scrolled": true
   },
   "outputs": [],
   "source": [
    "# Re-attempt to load the dataset and prepare it\n",
    "data = pd.read_csv(file_path)\n",
    "\n",
    "# Convert 'Date' to datetime, drop unwanted columns and drop rows with null values\n",
    "data['Date'] = pd.to_datetime(data['Date'])\n",
    "data.drop(['Longitude', 'Latitude', 'Legislation'], axis=1, inplace=True)\n",
    "data_clean = data.dropna(subset=columns_of_interest)\n",
    "\n",
    "# Confirm changes\n",
    "data_clean.info()\n"
   ]
  },
  {
   "cell_type": "code",
   "execution_count": null,
   "id": "40a2ca8e",
   "metadata": {
    "scrolled": true
   },
   "outputs": [],
   "source": [
    "# Reload the dataset to handle potential issues with previous load attempts\n",
    "try:\n",
    "    data = pd.read_csv(file_path)\n",
    "except Exception as e:\n",
    "    raise Exception(f\"Failed to load data: {str(e)}\")\n",
    "\n",
    "# Convert 'Date' to datetime, drop unwanted columns and drop rows with null values in relevant columns\n",
    "try:\n",
    "    data['Date'] = pd.to_datetime(data['Date'])\n",
    "    data.drop(['Longitude', 'Latitude', 'Legislation'], axis=1, inplace=True)\n",
    "    data_clean = data.dropna(subset=columns_of_interest)\n",
    "except Exception as e:\n",
    "    raise Exception(f\"Failed to preprocess data: {str(e)}\")\n",
    "\n",
    "data_clean.info()\n",
    "# Attempt to handle the file and preprocess data in a consolidated step\n",
    "try:\n",
    "    # Load the dataset\n",
    "    data = pd.read_csv(file_path)\n",
    "    # Convert 'Date' to datetime\n",
    "    data['Date'] = pd.to_datetime(data['Date'])\n",
    "    # Drop unwanted columns\n",
    "    data.drop(['Longitude', 'Latitude', 'Legislation'], axis=1, inplace=True)\n",
    "    # Drop rows with null values in columns of interest\n",
    "    data_clean = data.dropna(subset=columns_of_interest)\n",
    "except Exception as e:\n",
    "    raise Exception(f\"Error processing data: {str(e)}\")\n",
    "\n",
    "# Confirm the data is ready\n",
    "data_clean.info()\n"
   ]
  },
  {
   "cell_type": "code",
   "execution_count": null,
   "id": "7ec759e6",
   "metadata": {
    "scrolled": false
   },
   "outputs": [],
   "source": [
    "# Load the data\n",
    "data = pd.read_csv('cleandata/CleanSearchData.csv')  # Replace with the path to your dataset\n",
    "\n",
    "# Preprocess the data\n",
    "data['Date'] = pd.to_datetime(data['Date'])\n",
    "data.drop(['Longitude', 'Latitude', 'Legislation'], axis=1, inplace=True)\n",
    "data = data.dropna(subset=['Gender', 'Age range', 'Self-defined ethnicity', \n",
    "                           'Officer-defined ethnicity', 'Object of search', 'Outcome'])\n",
    "\n",
    "# Set up the plotting environment\n",
    "# Set up the plotting environment\n",
    "sns.set(style=\"whitegrid\")\n",
    "\n",
    "# Define a color palette\n",
    "palette = sns.color_palette(\"Blues_r\")\n",
    "\n",
    "# Plot Outcomes by Age\n",
    "plt.figure(figsize=(12, 6))\n",
    "sns.countplot(x='Age range', hue='Outcome', data=data, palette=palette)\n",
    "plt.title('Search Outcomes by Age')\n",
    "plt.xticks(rotation=45)\n",
    "plt.tight_layout()\n",
    "# plt.savefig('search2a.png')\n",
    "plt.show()\n",
    "\n",
    "# Plot Outcomes by Gender\n",
    "plt.figure(figsize=(12, 6))\n",
    "sns.countplot(x='Gender', hue='Outcome', data=data, palette=palette)\n",
    "plt.title('Search Outcomes by Gender')\n",
    "plt.tight_layout()\n",
    "# plt.savefig('search2b.png')\n",
    "plt.show()\n",
    "\n",
    "\n",
    "# Plot Outcomes by Officer-Defined Ethnicity\n",
    "plt.figure(figsize=(12, 6))\n",
    "sns.countplot(x='Officer-defined ethnicity', hue='Outcome', data=data, palette=palette)\n",
    "plt.title('Search Outcomes by Officer-Defined Ethnicity')\n",
    "plt.xticks(rotation=90)\n",
    "plt.tight_layout()\n",
    "# plt.savefig('search2d.png')\n",
    "plt.show()\n",
    "\n",
    "# Plot Outcomes by Object of Search\n",
    "plt.figure(figsize=(12, 6))\n",
    "sns.countplot(x='Object of search', hue='Outcome', data=data, palette=palette)\n",
    "plt.title('Search Outcomes by Object of Search')\n",
    "plt.xticks(rotation=45)\n",
    "plt.tight_layout()\n",
    "# plt.savefig('search2e.png')\n",
    "plt.show()\n",
    "\n"
   ]
  },
  {
   "cell_type": "code",
   "execution_count": null,
   "id": "2fd74f8b",
   "metadata": {},
   "outputs": [],
   "source": [
    "# Shorten the category labels\n",
    "short_labels = {\n",
    "    'White - English/Welsh/Scottish/Northern Irish/British': 'White - British',\n",
    "    'Other ethnic group - Not stated': 'Other - Not stated',\n",
    "    'Black/African/Caribbean/Black British - Any other Black/African/Caribbean background': 'Black - Other',\n",
    "    'Asian/Asian British - Pakistani': 'Asian - Pakistani',\n",
    "    'White - Irish': 'White - Irish',\n",
    "    'Black/African/Caribbean/Black British - African': 'Black - African',\n",
    "    'Other ethnic group - Any other ethnic group': 'Other - Any other',\n",
    "    'Mixed/Multiple ethnic groups - Any other Mixed/Multiple ethnic background': 'Mixed - Other',\n",
    "    'Asian/Asian British - Bangladeshi': 'Asian - Bangladeshi',\n",
    "    'Black/African/Caribbean/Black British - Caribbean': 'Black - Caribbean',\n",
    "    'Asian/Asian British - Any other Asian background': 'Asian - Other',\n",
    "    'White - Any other White background': 'White - Other',\n",
    "    'Mixed/Multiple ethnic groups - White and Black Caribbean': 'Mixed - White and Black Caribbean',\n",
    "    'Mixed/Multiple ethnic groups - White and Asian': 'Mixed - White and Asian',\n",
    "    'Asian/Asian British - Indian': 'Asian - Indian',\n",
    "    'Mixed/Multiple ethnic groups - White and Black African': 'Mixed - White and Black African',\n",
    "    'Asian/Asian British - Chinese': 'Asian - Chinese'\n",
    "}\n",
    "\n",
    "\n",
    "# Apply the short labels to the 'Self-defined ethnicity' column\n",
    "data['Short Self-defined ethnicity'] = data['Self-defined ethnicity'].map(short_labels)\n",
    "\n",
    "# Generate a pivot table where the columns are the outcomes and the index is the shortened ethnicity\n",
    "pivot_data = data.pivot_table(index='Short Self-defined ethnicity', columns='Outcome', aggfunc='size', fill_value=0)\n",
    "\n",
    "# Normalize the data by row to get proportions\n",
    "pivot_normalized = pivot_data.div(pivot_data.sum(axis=1), axis=0)\n",
    "\n",
    "# Sort the y-axis labels\n",
    "def custom_sort(label):\n",
    "    if label.startswith('Other -'):\n",
    "        return (2, label)  # Higher number to sort these last\n",
    "    elif label.endswith('- Other'):\n",
    "        return (1, label)  # Middle group\n",
    "    else:\n",
    "        return (0, label)  # Everything else, sorted first\n",
    "\n",
    "# Sort index according to custom rules\n",
    "sorted_index = sorted(pivot_normalized.index, key=custom_sort)\n",
    "\n",
    "# Reindex DataFrame with new order\n",
    "pivot_normalized = pivot_normalized.reindex(sorted_index)\n",
    "\n",
    "# Plotting\n",
    "fig, ax = plt.subplots(figsize=(14, 10))\n",
    "pivot_normalized.plot(kind='barh', stacked=True, colormap='Blues', ax=ax)\n",
    "ax.set_title('Proportional Search Outcomes by Self-Defined Ethnicity', fontsize=14)\n",
    "ax.set_xlabel('Proportion of Search Outcomes', fontsize=14)\n",
    "ax.set_ylabel('Self-Defined Ethnicity', fontsize=14)\n",
    "ax.tick_params(axis='both', which='major', labelsize=14)\n",
    "\n",
    "# Invert the x-axis to have the '1.0' start on the left\n",
    "ax.set_xlim(ax.get_xlim()[::-1])\n",
    "\n",
    "# Handle the legend\n",
    "handles, labels = ax.get_legend_handles_labels()\n",
    "ax.legend(handles, labels, title='Outcome', loc='upper right', bbox_to_anchor=(1, 1))\n",
    "\n",
    "plt.tight_layout()\n",
    "# plt.savefig('normalized_outcomes_ordered_y_axis.png')\n",
    "plt.show()\n"
   ]
  },
  {
   "cell_type": "markdown",
   "id": "32e9d770",
   "metadata": {},
   "source": [
    "## Street dataset\n"
   ]
  },
  {
   "cell_type": "code",
   "execution_count": null,
   "id": "4d947436",
   "metadata": {},
   "outputs": [],
   "source": [
    "file_path = 'cleandata/CleanStreetData.csv'\n",
    "data = pd.read_csv(file_path)\n",
    "data['Last outcome category'].unique()"
   ]
  },
  {
   "cell_type": "code",
   "execution_count": null,
   "id": "47752f92",
   "metadata": {},
   "outputs": [],
   "source": [
    "# Load the dataset\n",
    "file_path = 'cleandata/CleanStreetData.csv'\n",
    "data = pd.read_csv(file_path)"
   ]
  },
  {
   "cell_type": "code",
   "execution_count": null,
   "id": "ca061799",
   "metadata": {},
   "outputs": [],
   "source": [
    "data.drop(['Longitude', 'Latitude', 'LSOA code', 'Location'], axis=1, inplace=True)"
   ]
  },
  {
   "cell_type": "code",
   "execution_count": null,
   "id": "6c1fbe2f",
   "metadata": {},
   "outputs": [],
   "source": [
    "crime_density = data['Month'].value_counts().sort_index()\n",
    "plt.figure(figsize=(12, 6))\n",
    "crime_density.plot(title='Crime Density Over Time')\n",
    "plt.xlabel('Month')\n",
    "plt.ylabel('Number of Crimes')\n",
    "plt.tight_layout()\n",
    "# plt.savefig('street1a.png')\n",
    "plt.show()\n"
   ]
  },
  {
   "cell_type": "code",
   "execution_count": null,
   "id": "11418643",
   "metadata": {},
   "outputs": [],
   "source": [
    "crime_type_count = data['Crime type'].value_counts()\n",
    "plt.figure(figsize=(12, 6))\n",
    "crime_type_count.plot(kind='bar', title='Crime Type Count')\n",
    "plt.xlabel('Crime Type')\n",
    "plt.ylabel('Count')\n",
    "plt.xticks(rotation=45)\n",
    "plt.tight_layout()\n",
    "# plt.savefig('street1b.png')\n",
    "plt.show()\n"
   ]
  },
  {
   "cell_type": "code",
   "execution_count": null,
   "id": "f771aab0",
   "metadata": {},
   "outputs": [],
   "source": [
    "variables = ['Crime type']  # Adjust column names as needed\n",
    "for var in variables:\n",
    "    pd.crosstab(data[var], data['Last outcome category']).plot(kind='bar', stacked=True, figsize=(24, 12))\n",
    "    plt.title(f'Outcome by {var}')\n",
    "    plt.xlabel(var)\n",
    "    plt.ylabel('Count')\n",
    "    plt.xticks(rotation=45)\n",
    "    plt.tight_layout()\n",
    "#     plt.savefig('street1c.png')\n",
    "    plt.show()\n"
   ]
  },
  {
   "cell_type": "markdown",
   "id": "5ef051fc",
   "metadata": {},
   "source": [
    "## PAS data borough\n"
   ]
  },
  {
   "cell_type": "code",
   "execution_count": null,
   "id": "e13ca9b3",
   "metadata": {},
   "outputs": [],
   "source": [
    "# Load the dataset to understand its structure and contents\n",
    "data = pd.read_csv('cleandata/pas_data_borough.csv')\n",
    "data.head()\n"
   ]
  },
  {
   "cell_type": "code",
   "execution_count": null,
   "id": "901c1c62",
   "metadata": {},
   "outputs": [],
   "source": [
    "# Convert 'Date' to datetime type\n",
    "data['Date'] = pd.to_datetime(data['Date'])"
   ]
  },
  {
   "cell_type": "code",
   "execution_count": null,
   "id": "32d5d7aa",
   "metadata": {},
   "outputs": [],
   "source": [
    "# Filter data for the 'Trust MPS' measure\n",
    "trust_mps_data = data[data['Measure'] == 'Trust MPS']\n",
    "\n",
    "# Select a few boroughs for the time series plot\n",
    "selected_boroughs = ['Barking and Dagenham', 'Barnet', 'Bexley', 'Brent', 'Bromley']\n",
    "\n",
    "# Filter data for these boroughs\n",
    "trust_mps_filtered = trust_mps_data[trust_mps_data['Borough'].isin(selected_boroughs)]\n",
    "\n",
    "# Create a time series plot for 'Trust MPS'\n",
    "plt.figure(figsize=(14, 7))\n",
    "sns.lineplot(data=trust_mps_filtered, x='Date', y='Proportion', hue='Borough', marker='o')\n",
    "plt.title('Time Series of \"Trust MPS\" by Borough')\n",
    "plt.xlabel('Date')\n",
    "plt.ylabel('Proportion')\n",
    "plt.legend(title='Borough')\n",
    "plt.grid(True)\n",
    "plt.tight_layout()\n",
    "# plt.savefig('trust1.png')\n",
    "plt.show()\n"
   ]
  },
  {
   "cell_type": "code",
   "execution_count": null,
   "id": "74d93606",
   "metadata": {},
   "outputs": [],
   "source": [
    "# Calculate the average 'Trust MPS' proportion for each borough\n",
    "average_trust_mps = trust_mps_data.groupby('Borough')['Proportion'].mean().sort_values()\n",
    "\n",
    "# Create a bar chart for 'Trust MPS'\n",
    "plt.figure(figsize=(14, 7))\n",
    "average_trust_mps.plot(kind='bar', color='lightblue')\n",
    "plt.title('Average \"Trust MPS\" by Borough')\n",
    "plt.xlabel('Borough')\n",
    "plt.ylabel('Average Proportion')\n",
    "plt.xticks(rotation=90)\n",
    "plt.grid(axis='y')\n",
    "plt.tight_layout()\n",
    "# plt.savefig('trust2.png')\n",
    "plt.show()\n"
   ]
  },
  {
   "cell_type": "code",
   "execution_count": null,
   "id": "5b9d2d4d",
   "metadata": {},
   "outputs": [],
   "source": [
    "# Create a histogram of the 'Trust MPS' values\n",
    "plt.figure(figsize=(10, 6))\n",
    "sns.histplot(trust_mps_data['Proportion'], bins=20, kde=True, color='purple')\n",
    "plt.title('Distribution of \"Trust MPS\" Values')\n",
    "plt.xlabel('Proportion')\n",
    "plt.ylabel('Frequency')\n",
    "plt.grid(True)\n",
    "plt.tight_layout()\n",
    "# plt.savefig('trust3.png')\n",
    "plt.show()\n"
   ]
  },
  {
   "cell_type": "markdown",
   "id": "169abc66",
   "metadata": {},
   "source": [
    "## PAS data MPS - trust MPS"
   ]
  },
  {
   "cell_type": "code",
   "execution_count": null,
   "id": "aee9947c",
   "metadata": {},
   "outputs": [],
   "source": [
    "# Load the new dataset to understand its structure and contents\n",
    "new_data = pd.read_csv('cleandata/pas_data_MPS.csv')\n",
    "new_data.head()\n"
   ]
  },
  {
   "cell_type": "code",
   "execution_count": null,
   "id": "43046b5a",
   "metadata": {},
   "outputs": [],
   "source": [
    "# Convert 'Date' to datetime type for easier handling\n",
    "new_data['Date'] = pd.to_datetime(new_data['Date'])\n",
    "\n",
    "# Filter data for the 'Trust MPS' measure\n",
    "trust_mps_only = new_data[new_data['Measure'] == 'Trust MPS']\n",
    "\n",
    "# Check the first few rows of the filtered data to ensure correctness\n",
    "trust_mps_only.head()\n"
   ]
  },
  {
   "cell_type": "code",
   "execution_count": null,
   "id": "7e4bdf13",
   "metadata": {},
   "outputs": [],
   "source": [
    "# Create a time series plot for 'Trust MPS'\n",
    "plt.figure(figsize=(12, 6))\n",
    "sns.lineplot(data=trust_mps_only, x='Date', y='Proportion', marker='o', color='blue')\n",
    "plt.title('Time Series of \"Trust MPS\"')\n",
    "plt.xlabel('Date')\n",
    "plt.ylabel('Trust MPS Proportion')\n",
    "plt.grid(True)\n",
    "plt.tight_layout()\n",
    "# plt.savefig('trust1(MPS).png')\n",
    "plt.show()\n"
   ]
  },
  {
   "cell_type": "code",
   "execution_count": null,
   "id": "ccd255f3",
   "metadata": {},
   "outputs": [],
   "source": [
    "# Compute descriptive statistics for 'Trust MPS'\n",
    "trust_mps_statistics = trust_mps_only['Proportion'].describe()\n",
    "trust_mps_statistics\n"
   ]
  }
 ],
 "metadata": {
  "kernelspec": {
   "display_name": "Python 3 (ipykernel)",
   "language": "python",
   "name": "python3"
  },
  "language_info": {
   "codemirror_mode": {
    "name": "ipython",
    "version": 3
   },
   "file_extension": ".py",
   "mimetype": "text/x-python",
   "name": "python",
   "nbconvert_exporter": "python",
   "pygments_lexer": "ipython3",
   "version": "3.11.5"
  }
 },
 "nbformat": 4,
 "nbformat_minor": 5
}
